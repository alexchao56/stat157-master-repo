{
 "metadata": {
  "name": ""
 },
 "nbformat": 3,
 "nbformat_minor": 0,
 "worksheets": [
  {
   "cells": [
    {
     "cell_type": "markdown",
     "metadata": {},
     "source": [
      "**Imports the necessary packages**"
     ]
    },
    {
     "cell_type": "code",
     "collapsed": false,
     "input": [
      "import datetime\n",
      "import time\n",
      "import urllib\n",
      "import numpy as np\n",
      "import pandas as pd\n",
      "from pandas import read_csv\n",
      "from dateutil import parser\n",
      "from pprint import pprint"
     ],
     "language": "python",
     "metadata": {},
     "outputs": []
    },
    {
     "cell_type": "markdown",
     "metadata": {},
     "source": [
      "**Use the data from the curators, populate a Pandas dataframe**"
     ]
    },
    {
     "cell_type": "code",
     "collapsed": false,
     "input": [
      "# This is the 2013 data from the curators\n",
      "# Thanks Piazza for the free hosting :p\n",
      "\n",
      "# We'll probably have to setup a github page for this project, or find a more \n",
      "# reliable way to host our csv file later\n",
      "data = read_csv(\"https://piazza.com/class_profile/get_resource/hkyfvggfat84vl/hnnxl94gqitqb\")\n",
      "clean_data = data.dropna(axis=0, how='any')\n",
      "p"
     ],
     "language": "python",
     "metadata": {},
     "outputs": []
    },
    {
     "cell_type": "markdown",
     "metadata": {},
     "source": [
      "**Get some relevant data using the first two columns (date and time), and the 'MAG' column (Magnitude)**"
     ]
    },
    {
     "cell_type": "code",
     "collapsed": false,
     "input": [
      "test_mag = test_data['MAG']\n",
      "test_mag = test_mag.tolist()\n",
      "test_mag"
     ],
     "language": "python",
     "metadata": {},
     "outputs": []
    },
    {
     "cell_type": "code",
     "collapsed": false,
     "input": [
      "test_date = test_data['YYYY/MM/DD']\n",
      "test_time = test_data['HH:mm:SS.ss']\n",
      "\n",
      "test_dt = [parser.parse(date + \" \" + time) for date, time in zip(test_date, test_time)]\n",
      "test_dt"
     ],
     "language": "python",
     "metadata": {},
     "outputs": []
    },
    {
     "cell_type": "markdown",
     "metadata": {},
     "source": [
      "**Extracts the alarm length for each possible quake**"
     ]
    },
    {
     "cell_type": "code",
     "collapsed": false,
     "input": [
      "def basic_mda(tau, u, mag):\n",
      "    return tau * (u ** mag)"
     ],
     "language": "python",
     "metadata": {},
     "outputs": []
    },
    {
     "cell_type": "code",
     "collapsed": false,
     "input": [
      "def mda(mag, dt, tau=0.7, funct=basic_mda):\n",
      "    \"\"\"\n",
      "    Uses basic MDA model (tau*u^mag) to predict earthquakes.\n",
      "    Returns tuple of (start, end) representing date range when alarm should be on.\n",
      "    MAG: list of earthquake magnitudes\n",
      "    DT: list of earthquake datetimes in python datetime format\n",
      "    (MAG and DT have the same length and come from earthquakes data frame)\n",
      "    \"\"\"\n",
      "    assert len(mag) == len(dt), \"Dude are you mad?\"\n",
      "    \n",
      "    tau = 0.7 # we will figure out what tau is later\n",
      "    u = 4 # we will add fancy tuning functionality later\n",
      "    alarms = []\n",
      "    \n",
      "    for i in range(0, len(mag)):\n",
      "        alarm_length = funct(tau, u, mag[i])\n",
      "        val = datetime.timedelta(seconds=alarm_length)\n",
      "        rng = (dt[i] + datetime.timedelta(seconds=1), \n",
      "               dt[i] + val)\n",
      "        alarms.append(rng)\n",
      "    return alarms"
     ],
     "language": "python",
     "metadata": {},
     "outputs": []
    },
    {
     "cell_type": "code",
     "collapsed": false,
     "input": [
      "alarm_ranges = mda(test_mag, test_dt)\n",
      "alarm_ranges"
     ],
     "language": "python",
     "metadata": {},
     "outputs": []
    },
    {
     "cell_type": "code",
     "collapsed": false,
     "input": [
      "data_we_need = {'Latitude': test_data['LAT'], 'Longitude': test_data['LON'], \n",
      "                'Alarm Begins': [alarm[0] for alarm in alarm_ranges], \n",
      "                'Alarm Ends': [alarm[1] for alarm in alarm_ranges]}\n",
      "dframe = pd.DataFrame(data_we_need)\n",
      "dframe"
     ],
     "language": "python",
     "metadata": {},
     "outputs": []
    },
    {
     "cell_type": "code",
     "collapsed": false,
     "input": [],
     "language": "python",
     "metadata": {},
     "outputs": []
    }
   ],
   "metadata": {}
  }
 ]
}